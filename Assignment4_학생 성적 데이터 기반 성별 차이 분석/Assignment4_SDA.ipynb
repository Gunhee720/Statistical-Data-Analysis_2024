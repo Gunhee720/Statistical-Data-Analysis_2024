{
 "cells": [
  {
   "cell_type": "code",
   "execution_count": 2,
   "id": "056918fe",
   "metadata": {
    "ExecuteTime": {
     "end_time": "2024-12-08T06:09:50.577874Z",
     "start_time": "2024-12-08T06:09:45.266110Z"
    }
   },
   "outputs": [],
   "source": [
    "import pandas as pd\n",
    "import seaborn as sns\n",
    "import numpy as np\n",
    "from scipy import stats\n",
    "\n",
    "data= pd.read_csv(\"student-mat.csv\")\n"
   ]
  },
  {
   "cell_type": "code",
   "execution_count": 100,
   "id": "f362b733",
   "metadata": {
    "ExecuteTime": {
     "end_time": "2024-12-08T05:50:39.673974Z",
     "start_time": "2024-12-08T05:50:39.613683Z"
    }
   },
   "outputs": [
    {
     "data": {
      "text/html": [
       "<div>\n",
       "<style scoped>\n",
       "    .dataframe tbody tr th:only-of-type {\n",
       "        vertical-align: middle;\n",
       "    }\n",
       "\n",
       "    .dataframe tbody tr th {\n",
       "        vertical-align: top;\n",
       "    }\n",
       "\n",
       "    .dataframe thead th {\n",
       "        text-align: right;\n",
       "    }\n",
       "</style>\n",
       "<table border=\"1\" class=\"dataframe\">\n",
       "  <thead>\n",
       "    <tr style=\"text-align: right;\">\n",
       "      <th></th>\n",
       "      <th>school</th>\n",
       "      <th>sex</th>\n",
       "      <th>age</th>\n",
       "      <th>address</th>\n",
       "      <th>famsize</th>\n",
       "      <th>Pstatus</th>\n",
       "      <th>Medu</th>\n",
       "      <th>Fedu</th>\n",
       "      <th>Mjob</th>\n",
       "      <th>Fjob</th>\n",
       "      <th>...</th>\n",
       "      <th>famrel</th>\n",
       "      <th>freetime</th>\n",
       "      <th>goout</th>\n",
       "      <th>Dalc</th>\n",
       "      <th>Walc</th>\n",
       "      <th>health</th>\n",
       "      <th>absences</th>\n",
       "      <th>G1</th>\n",
       "      <th>G2</th>\n",
       "      <th>G3</th>\n",
       "    </tr>\n",
       "  </thead>\n",
       "  <tbody>\n",
       "    <tr>\n",
       "      <th>0</th>\n",
       "      <td>GP</td>\n",
       "      <td>F</td>\n",
       "      <td>18</td>\n",
       "      <td>U</td>\n",
       "      <td>GT3</td>\n",
       "      <td>A</td>\n",
       "      <td>4</td>\n",
       "      <td>4</td>\n",
       "      <td>at_home</td>\n",
       "      <td>teacher</td>\n",
       "      <td>...</td>\n",
       "      <td>4</td>\n",
       "      <td>3</td>\n",
       "      <td>4</td>\n",
       "      <td>1</td>\n",
       "      <td>1</td>\n",
       "      <td>3</td>\n",
       "      <td>6</td>\n",
       "      <td>5</td>\n",
       "      <td>6</td>\n",
       "      <td>6</td>\n",
       "    </tr>\n",
       "    <tr>\n",
       "      <th>1</th>\n",
       "      <td>GP</td>\n",
       "      <td>F</td>\n",
       "      <td>17</td>\n",
       "      <td>U</td>\n",
       "      <td>GT3</td>\n",
       "      <td>T</td>\n",
       "      <td>1</td>\n",
       "      <td>1</td>\n",
       "      <td>at_home</td>\n",
       "      <td>other</td>\n",
       "      <td>...</td>\n",
       "      <td>5</td>\n",
       "      <td>3</td>\n",
       "      <td>3</td>\n",
       "      <td>1</td>\n",
       "      <td>1</td>\n",
       "      <td>3</td>\n",
       "      <td>4</td>\n",
       "      <td>5</td>\n",
       "      <td>5</td>\n",
       "      <td>6</td>\n",
       "    </tr>\n",
       "    <tr>\n",
       "      <th>2</th>\n",
       "      <td>GP</td>\n",
       "      <td>F</td>\n",
       "      <td>15</td>\n",
       "      <td>U</td>\n",
       "      <td>LE3</td>\n",
       "      <td>T</td>\n",
       "      <td>1</td>\n",
       "      <td>1</td>\n",
       "      <td>at_home</td>\n",
       "      <td>other</td>\n",
       "      <td>...</td>\n",
       "      <td>4</td>\n",
       "      <td>3</td>\n",
       "      <td>2</td>\n",
       "      <td>2</td>\n",
       "      <td>3</td>\n",
       "      <td>3</td>\n",
       "      <td>10</td>\n",
       "      <td>7</td>\n",
       "      <td>8</td>\n",
       "      <td>10</td>\n",
       "    </tr>\n",
       "    <tr>\n",
       "      <th>3</th>\n",
       "      <td>GP</td>\n",
       "      <td>F</td>\n",
       "      <td>15</td>\n",
       "      <td>U</td>\n",
       "      <td>GT3</td>\n",
       "      <td>T</td>\n",
       "      <td>4</td>\n",
       "      <td>2</td>\n",
       "      <td>health</td>\n",
       "      <td>services</td>\n",
       "      <td>...</td>\n",
       "      <td>3</td>\n",
       "      <td>2</td>\n",
       "      <td>2</td>\n",
       "      <td>1</td>\n",
       "      <td>1</td>\n",
       "      <td>5</td>\n",
       "      <td>2</td>\n",
       "      <td>15</td>\n",
       "      <td>14</td>\n",
       "      <td>15</td>\n",
       "    </tr>\n",
       "    <tr>\n",
       "      <th>4</th>\n",
       "      <td>GP</td>\n",
       "      <td>F</td>\n",
       "      <td>16</td>\n",
       "      <td>U</td>\n",
       "      <td>GT3</td>\n",
       "      <td>T</td>\n",
       "      <td>3</td>\n",
       "      <td>3</td>\n",
       "      <td>other</td>\n",
       "      <td>other</td>\n",
       "      <td>...</td>\n",
       "      <td>4</td>\n",
       "      <td>3</td>\n",
       "      <td>2</td>\n",
       "      <td>1</td>\n",
       "      <td>2</td>\n",
       "      <td>5</td>\n",
       "      <td>4</td>\n",
       "      <td>6</td>\n",
       "      <td>10</td>\n",
       "      <td>10</td>\n",
       "    </tr>\n",
       "    <tr>\n",
       "      <th>...</th>\n",
       "      <td>...</td>\n",
       "      <td>...</td>\n",
       "      <td>...</td>\n",
       "      <td>...</td>\n",
       "      <td>...</td>\n",
       "      <td>...</td>\n",
       "      <td>...</td>\n",
       "      <td>...</td>\n",
       "      <td>...</td>\n",
       "      <td>...</td>\n",
       "      <td>...</td>\n",
       "      <td>...</td>\n",
       "      <td>...</td>\n",
       "      <td>...</td>\n",
       "      <td>...</td>\n",
       "      <td>...</td>\n",
       "      <td>...</td>\n",
       "      <td>...</td>\n",
       "      <td>...</td>\n",
       "      <td>...</td>\n",
       "      <td>...</td>\n",
       "    </tr>\n",
       "    <tr>\n",
       "      <th>390</th>\n",
       "      <td>MS</td>\n",
       "      <td>M</td>\n",
       "      <td>20</td>\n",
       "      <td>U</td>\n",
       "      <td>LE3</td>\n",
       "      <td>A</td>\n",
       "      <td>2</td>\n",
       "      <td>2</td>\n",
       "      <td>services</td>\n",
       "      <td>services</td>\n",
       "      <td>...</td>\n",
       "      <td>5</td>\n",
       "      <td>5</td>\n",
       "      <td>4</td>\n",
       "      <td>4</td>\n",
       "      <td>5</td>\n",
       "      <td>4</td>\n",
       "      <td>11</td>\n",
       "      <td>9</td>\n",
       "      <td>9</td>\n",
       "      <td>9</td>\n",
       "    </tr>\n",
       "    <tr>\n",
       "      <th>391</th>\n",
       "      <td>MS</td>\n",
       "      <td>M</td>\n",
       "      <td>17</td>\n",
       "      <td>U</td>\n",
       "      <td>LE3</td>\n",
       "      <td>T</td>\n",
       "      <td>3</td>\n",
       "      <td>1</td>\n",
       "      <td>services</td>\n",
       "      <td>services</td>\n",
       "      <td>...</td>\n",
       "      <td>2</td>\n",
       "      <td>4</td>\n",
       "      <td>5</td>\n",
       "      <td>3</td>\n",
       "      <td>4</td>\n",
       "      <td>2</td>\n",
       "      <td>3</td>\n",
       "      <td>14</td>\n",
       "      <td>16</td>\n",
       "      <td>16</td>\n",
       "    </tr>\n",
       "    <tr>\n",
       "      <th>392</th>\n",
       "      <td>MS</td>\n",
       "      <td>M</td>\n",
       "      <td>21</td>\n",
       "      <td>R</td>\n",
       "      <td>GT3</td>\n",
       "      <td>T</td>\n",
       "      <td>1</td>\n",
       "      <td>1</td>\n",
       "      <td>other</td>\n",
       "      <td>other</td>\n",
       "      <td>...</td>\n",
       "      <td>5</td>\n",
       "      <td>5</td>\n",
       "      <td>3</td>\n",
       "      <td>3</td>\n",
       "      <td>3</td>\n",
       "      <td>3</td>\n",
       "      <td>3</td>\n",
       "      <td>10</td>\n",
       "      <td>8</td>\n",
       "      <td>7</td>\n",
       "    </tr>\n",
       "    <tr>\n",
       "      <th>393</th>\n",
       "      <td>MS</td>\n",
       "      <td>M</td>\n",
       "      <td>18</td>\n",
       "      <td>R</td>\n",
       "      <td>LE3</td>\n",
       "      <td>T</td>\n",
       "      <td>3</td>\n",
       "      <td>2</td>\n",
       "      <td>services</td>\n",
       "      <td>other</td>\n",
       "      <td>...</td>\n",
       "      <td>4</td>\n",
       "      <td>4</td>\n",
       "      <td>1</td>\n",
       "      <td>3</td>\n",
       "      <td>4</td>\n",
       "      <td>5</td>\n",
       "      <td>0</td>\n",
       "      <td>11</td>\n",
       "      <td>12</td>\n",
       "      <td>10</td>\n",
       "    </tr>\n",
       "    <tr>\n",
       "      <th>394</th>\n",
       "      <td>MS</td>\n",
       "      <td>M</td>\n",
       "      <td>19</td>\n",
       "      <td>U</td>\n",
       "      <td>LE3</td>\n",
       "      <td>T</td>\n",
       "      <td>1</td>\n",
       "      <td>1</td>\n",
       "      <td>other</td>\n",
       "      <td>at_home</td>\n",
       "      <td>...</td>\n",
       "      <td>3</td>\n",
       "      <td>2</td>\n",
       "      <td>3</td>\n",
       "      <td>3</td>\n",
       "      <td>3</td>\n",
       "      <td>5</td>\n",
       "      <td>5</td>\n",
       "      <td>8</td>\n",
       "      <td>9</td>\n",
       "      <td>9</td>\n",
       "    </tr>\n",
       "  </tbody>\n",
       "</table>\n",
       "<p>395 rows × 33 columns</p>\n",
       "</div>"
      ],
      "text/plain": [
       "    school sex  age address famsize Pstatus  Medu  Fedu      Mjob      Fjob  \\\n",
       "0       GP   F   18       U     GT3       A     4     4   at_home   teacher   \n",
       "1       GP   F   17       U     GT3       T     1     1   at_home     other   \n",
       "2       GP   F   15       U     LE3       T     1     1   at_home     other   \n",
       "3       GP   F   15       U     GT3       T     4     2    health  services   \n",
       "4       GP   F   16       U     GT3       T     3     3     other     other   \n",
       "..     ...  ..  ...     ...     ...     ...   ...   ...       ...       ...   \n",
       "390     MS   M   20       U     LE3       A     2     2  services  services   \n",
       "391     MS   M   17       U     LE3       T     3     1  services  services   \n",
       "392     MS   M   21       R     GT3       T     1     1     other     other   \n",
       "393     MS   M   18       R     LE3       T     3     2  services     other   \n",
       "394     MS   M   19       U     LE3       T     1     1     other   at_home   \n",
       "\n",
       "     ... famrel freetime  goout  Dalc  Walc health absences  G1  G2  G3  \n",
       "0    ...      4        3      4     1     1      3        6   5   6   6  \n",
       "1    ...      5        3      3     1     1      3        4   5   5   6  \n",
       "2    ...      4        3      2     2     3      3       10   7   8  10  \n",
       "3    ...      3        2      2     1     1      5        2  15  14  15  \n",
       "4    ...      4        3      2     1     2      5        4   6  10  10  \n",
       "..   ...    ...      ...    ...   ...   ...    ...      ...  ..  ..  ..  \n",
       "390  ...      5        5      4     4     5      4       11   9   9   9  \n",
       "391  ...      2        4      5     3     4      2        3  14  16  16  \n",
       "392  ...      5        5      3     3     3      3        3  10   8   7  \n",
       "393  ...      4        4      1     3     4      5        0  11  12  10  \n",
       "394  ...      3        2      3     3     3      5        5   8   9   9  \n",
       "\n",
       "[395 rows x 33 columns]"
      ]
     },
     "execution_count": 100,
     "metadata": {},
     "output_type": "execute_result"
    }
   ],
   "source": [
    "data"
   ]
  },
  {
   "cell_type": "code",
   "execution_count": 3,
   "id": "bd65141f",
   "metadata": {
    "ExecuteTime": {
     "end_time": "2024-12-07T13:29:53.648414Z",
     "start_time": "2024-12-07T13:29:53.252186Z"
    }
   },
   "outputs": [
    {
     "data": {
      "text/plain": [
       "<seaborn.axisgrid.FacetGrid at 0x16429885be0>"
      ]
     },
     "execution_count": 3,
     "metadata": {},
     "output_type": "execute_result"
    },
    {
     "data": {
      "image/png": "[encoded data removed]",
      "text/plain": [
       "<Figure size 500x500 with 1 Axes>"
      ]
     },
     "metadata": {},
     "output_type": "display_data"
    }
   ],
   "source": [
    "sns.displot(data['sex'])"
   ]
  },
  {
   "cell_type": "code",
   "execution_count": 101,
   "id": "056a42f1",
   "metadata": {
    "ExecuteTime": {
     "end_time": "2024-12-08T05:50:42.579730Z",
     "start_time": "2024-12-08T05:50:42.221115Z"
    }
   },
   "outputs": [
    {
     "data": {
      "text/plain": [
       "<seaborn.axisgrid.FacetGrid at 0x164304e2250>"
      ]
     },
     "execution_count": 101,
     "metadata": {},
     "output_type": "execute_result"
    }
   ],
   "source": [
    "sns.displot(data,x=\"G3\",hue=\"sex\")"
   ]
  },
  {
   "cell_type": "code",
   "execution_count": 2,
   "id": "75d0ccc7",
   "metadata": {
    "ExecuteTime": {
     "end_time": "2024-12-07T13:29:00.247141Z",
     "start_time": "2024-12-07T13:28:59.748915Z"
    }
   },
   "outputs": [
    {
     "data": {
      "text/plain": [
       "<seaborn.axisgrid.FacetGrid at 0x29689c16850>"
      ]
     },
     "execution_count": 2,
     "metadata": {},
     "output_type": "execute_result"
    },
    {
     "data": {
      "image/png": "[encoded data removed]",
      "text/plain": [
       "<Figure size 562x500 with 1 Axes>"
      ]
     },
     "metadata": {},
     "output_type": "display_data"
    }
   ],
   "source": [
    "sns.displot(data,x=\"G3\",hue=\"sex\",kind=\"kde\")"
   ]
  },
  {
   "cell_type": "code",
   "execution_count": 5,
   "id": "2cc2eaf1",
   "metadata": {
    "ExecuteTime": {
     "end_time": "2024-12-07T13:30:01.916024Z",
     "start_time": "2024-12-07T13:30:01.856106Z"
    }
   },
   "outputs": [
    {
     "data": {
      "text/plain": [
       "<AxesSubplot:xlabel='sex', ylabel='G3'>"
      ]
     },
     "execution_count": 5,
     "metadata": {},
     "output_type": "execute_result"
    }
   ],
   "source": [
    "sns.boxplot(data=data,x=\"sex\",y=\"G3\")"
   ]
  },
  {
   "cell_type": "code",
   "execution_count": 21,
   "id": "2bf543dd",
   "metadata": {
    "ExecuteTime": {
     "end_time": "2024-12-07T13:37:27.085198Z",
     "start_time": "2024-12-07T13:37:27.069940Z"
    }
   },
   "outputs": [],
   "source": [
    "data_m = data[data[\"sex\"]==\"M\"]\n",
    "data_w = data[data[\"sex\"]==\"F\"]"
   ]
  },
  {
   "cell_type": "code",
   "execution_count": 22,
   "id": "c28b3093",
   "metadata": {
    "ExecuteTime": {
     "end_time": "2024-12-07T13:37:27.810780Z",
     "start_time": "2024-12-07T13:37:27.793200Z"
    }
   },
   "outputs": [
    {
     "name": "stdout",
     "output_type": "stream",
     "text": [
      "10.914438502673796\n",
      "9.966346153846153\n",
      "11.866279069767442\n",
      "11.205405405405406\n"
     ]
    }
   ],
   "source": [
    "print(data_m[\"G3\"].mean())\n",
    "print(data_w[\"G3\"].mean())\n",
    "print(data_m[data_m[\"G3\"]>0][\"G3\"].mean())\n",
    "print(data_w[data_w['G3']>0][\"G3\"].mean())"
   ]
  },
  {
   "cell_type": "code",
   "execution_count": 23,
   "id": "c10292f5",
   "metadata": {
    "ExecuteTime": {
     "end_time": "2024-12-07T13:37:28.365827Z",
     "start_time": "2024-12-07T13:37:28.339905Z"
    }
   },
   "outputs": [
    {
     "name": "stdout",
     "output_type": "stream",
     "text": [
      "0.1214772696636538 0.7274377618424044\n"
     ]
    }
   ],
   "source": [
    "from scipy.stats import bartlett\n",
    "stat, p = bartlett(data_m[data_m[\"G3\"]>0][\"G3\"],data_w[data_w[\"G3\"]>0][\"G3\"])\n",
    "print(stat,p)"
   ]
  },
  {
   "cell_type": "code",
   "execution_count": 25,
   "id": "f0928d5e",
   "metadata": {
    "ExecuteTime": {
     "end_time": "2024-12-07T13:39:28.579390Z",
     "start_time": "2024-12-07T13:39:28.556852Z"
    }
   },
   "outputs": [
    {
     "data": {
      "text/plain": [
       "Ttest_indResult(statistic=1.9404771273257526, pvalue=0.053113174845791505)"
      ]
     },
     "execution_count": 25,
     "metadata": {},
     "output_type": "execute_result"
    }
   ],
   "source": [
    "stats.ttest_ind(data_m[data_m[\"G3\"]>0][\"G3\"],data_w[data_w[\"G3\"]>0][\"G3\"],equal_var=True)"
   ]
  },
  {
   "cell_type": "code",
   "execution_count": 29,
   "id": "6d25d729",
   "metadata": {
    "ExecuteTime": {
     "end_time": "2024-12-07T13:41:04.321583Z",
     "start_time": "2024-12-07T13:41:04.306588Z"
    }
   },
   "outputs": [],
   "source": [
    "data_m = data_m[data_m[\"G3\"]>0][\"G3\"]\n",
    "data_w = data_w[data_w[\"G3\"]>0][\"G3\"]"
   ]
  },
  {
   "cell_type": "code",
   "execution_count": 30,
   "id": "fbdc879f",
   "metadata": {
    "ExecuteTime": {
     "end_time": "2024-12-07T13:41:22.683951Z",
     "start_time": "2024-12-07T13:41:22.663607Z"
    }
   },
   "outputs": [
    {
     "name": "stdout",
     "output_type": "stream",
     "text": [
      "172\n",
      "185\n"
     ]
    }
   ],
   "source": [
    "print(len(data_m))\n",
    "print(len(data_w))"
   ]
  },
  {
   "cell_type": "code",
   "execution_count": 75,
   "id": "fe519695",
   "metadata": {
    "ExecuteTime": {
     "end_time": "2024-12-08T05:06:15.298594Z",
     "start_time": "2024-12-08T05:06:15.158124Z"
    }
   },
   "outputs": [
    {
     "data": {
      "text/plain": [
       "count    172.000000\n",
       "mean      11.866279\n",
       "std        3.258748\n",
       "min        5.000000\n",
       "25%       10.000000\n",
       "50%       12.000000\n",
       "75%       14.000000\n",
       "max       20.000000\n",
       "Name: G3, dtype: float64"
      ]
     },
     "execution_count": 75,
     "metadata": {},
     "output_type": "execute_result"
    }
   ],
   "source": [
    "data_m.describe()"
   ]
  },
  {
   "cell_type": "code",
   "execution_count": 76,
   "id": "3c07241a",
   "metadata": {
    "ExecuteTime": {
     "end_time": "2024-12-08T05:06:16.253248Z",
     "start_time": "2024-12-08T05:06:16.223954Z"
    }
   },
   "outputs": [
    {
     "data": {
      "text/plain": [
       "count    185.000000\n",
       "mean      11.205405\n",
       "std        3.174452\n",
       "min        4.000000\n",
       "25%        9.000000\n",
       "50%       11.000000\n",
       "75%       13.000000\n",
       "max       19.000000\n",
       "Name: G3, dtype: float64"
      ]
     },
     "execution_count": 76,
     "metadata": {},
     "output_type": "execute_result"
    }
   ],
   "source": [
    "data_w.describe()"
   ]
  },
  {
   "cell_type": "code",
   "execution_count": 41,
   "id": "c137773e",
   "metadata": {
    "ExecuteTime": {
     "end_time": "2024-12-08T03:38:34.333265Z",
     "start_time": "2024-12-08T03:38:33.364409Z"
    },
    "scrolled": false
   },
   "outputs": [
    {
     "data": {
      "image/png": "[encoded data removed]",
      "text/plain": [
       "<Figure size 1200x600 with 2 Axes>"
      ]
     },
     "metadata": {},
     "output_type": "display_data"
    },
    {
     "data": {
      "image/png": "[encoded data removed]",
      "text/plain": [
       "<Figure size 1200x600 with 2 Axes>"
      ]
     },
     "metadata": {},
     "output_type": "display_data"
    }
   ],
   "source": [
    "import matplotlib.pyplot as plt\n",
    "\n",
    "# Plotting QQ plots\n",
    "plt.figure(figsize=(12, 6))\n",
    "\n",
    "plt.subplot(1, 2, 1)\n",
    "stats.probplot(data_m, dist=\"norm\", plot=plt)\n",
    "plt.title(\"QQ Plot - data_m\")\n",
    "\n",
    "plt.subplot(1, 2, 2)\n",
    "stats.probplot(data_w, dist=\"norm\", plot=plt)\n",
    "plt.title(\"QQ Plot - data_w\")\n",
    "\n",
    "plt.tight_layout()\n",
    "plt.show()\n",
    "\n",
    "# Plotting histograms\n",
    "plt.figure(figsize=(12, 6))\n",
    "\n",
    "plt.subplot(1, 2, 1)\n",
    "plt.hist(data_m, bins=10, alpha=0.7, label=\"data_m\")\n",
    "plt.title(\"Histogram - data_m\")\n",
    "plt.xlabel(\"Value\")\n",
    "plt.ylabel(\"Frequency\")\n",
    "\n",
    "plt.subplot(1, 2, 2)\n",
    "plt.hist(data_w, bins=10, alpha=0.7, label=\"data_w\", color='orange')\n",
    "plt.title(\"Histogram - data_w\")\n",
    "plt.xlabel(\"Value\")\n",
    "plt.ylabel(\"Frequency\")\n",
    "\n",
    "plt.tight_layout()\n",
    "plt.show()\n",
    "\n"
   ]
  },
  {
   "cell_type": "code",
   "execution_count": 77,
   "id": "7c0252fc",
   "metadata": {
    "ExecuteTime": {
     "end_time": "2024-12-08T05:07:02.077184Z",
     "start_time": "2024-12-08T05:07:02.048176Z"
    }
   },
   "outputs": [
    {
     "name": "stdout",
     "output_type": "stream",
     "text": [
      "data_m의 정규성 ShapiroResult(statistic=0.9788146615028381, pvalue=0.009935521520674229)\n",
      "data_w의 정규성 ShapiroResult(statistic=0.9785570502281189, pvalue=0.006041768938302994)\n"
     ]
    }
   ],
   "source": [
    "print(\"data_m의 정규성\",stats.shapiro(data_m))\n",
    "print(\"data_w의 정규성\",stats.shapiro(data_w))"
   ]
  },
  {
   "cell_type": "code",
   "execution_count": 51,
   "id": "759897f1",
   "metadata": {
    "ExecuteTime": {
     "end_time": "2024-12-08T03:58:54.676161Z",
     "start_time": "2024-12-08T03:58:54.540471Z"
    }
   },
   "outputs": [
    {
     "name": "stdout",
     "output_type": "stream",
     "text": [
      "ks_test & data_m의 결과  KstestResult(statistic=0.10086228450774237, pvalue=0.05628834890664047)\n",
      "ks_test & data_w의 결과 KstestResult(statistic=0.12586577693158563, pvalue=0.005161903291796414)\n"
     ]
    }
   ],
   "source": [
    "mean_m, std_m = np.mean(data_m), np.std(data_m)\n",
    "mean_w, std_w = np.mean(data_w), np.std(data_w)\n",
    "\n",
    "print(\"ks_test & data_m의 결과 \",stats.kstest(data_m, 'norm', args=(mean_m, std_m)))\n",
    "print(\"ks_test & data_w의 결과\" ,stats.kstest(data_w, 'norm', args=(mean_w, std_w)))"
   ]
  },
  {
   "cell_type": "code",
   "execution_count": 82,
   "id": "860ba6c2",
   "metadata": {
    "ExecuteTime": {
     "end_time": "2024-12-08T05:21:37.979523Z",
     "start_time": "2024-12-08T05:21:37.963821Z"
    }
   },
   "outputs": [
    {
     "name": "stdout",
     "output_type": "stream",
     "text": [
      "Test Statistic: 3.0406254237317034\n",
      "p-value: 0.2186435038426241\n"
     ]
    }
   ],
   "source": [
    "from scipy.stats import jarque_bera\n",
    "stat, p_value = jarque_bera(data_m)\n",
    "print(\"Test Statistic:\", stat)\n",
    "print(\"p-value:\", p_value)"
   ]
  },
  {
   "cell_type": "code",
   "execution_count": 81,
   "id": "fdaa5ddb",
   "metadata": {
    "ExecuteTime": {
     "end_time": "2024-12-08T05:21:37.057891Z",
     "start_time": "2024-12-08T05:21:37.023135Z"
    }
   },
   "outputs": [
    {
     "name": "stdout",
     "output_type": "stream",
     "text": [
      "Test Statistic: 3.7174901419749595\n",
      "p-value: 0.15586811109986803\n"
     ]
    }
   ],
   "source": [
    "from scipy.stats import normaltest\n",
    "stat, p_value = normaltest(data_m)\n",
    "print(\"Test Statistic:\", stat)\n",
    "print(\"p-value:\", p_value)"
   ]
  },
  {
   "cell_type": "code",
   "execution_count": null,
   "id": "62654b96",
   "metadata": {},
   "outputs": [],
   "source": [
    "# 샤피로 테스트를 근거로 정규성이 없다는 대립가설을 채택\n",
    "# 이유 샤피로가 다른 테스트 보다분포의 전체적인 형태를 평가하는 데 민감함. 특히, 작은 왜도(skewness)와 첨도(kurtosis)에도 민감하게 반응.\n",
    "#첨도외 왜도를 기준으로는 정규분포와 유사하다 볼수 있지만 \n",
    "#그것만 가지고 판단하기 보다 작은 비대칭성이나 이상치에 더 민감하게 반응하는 점을 추가로 고려해야 한다.\n",
    "#샘플의 갯수가 100~200 이므로 샤피로 테스트가 민감하게 반응하는 것이 오히려 정확할 것이라고 판단\n",
    "#샘플의 갯수가 너무 많으면 너무 민감한게 오히려 독이 될 수 있겠지만 이 샘플에서는 유효한 검정이라고 생각한다."
   ]
  },
  {
   "cell_type": "code",
   "execution_count": 63,
   "id": "0e8b0c05",
   "metadata": {
    "ExecuteTime": {
     "end_time": "2024-12-08T04:16:20.880087Z",
     "start_time": "2024-12-08T04:16:20.858739Z"
    }
   },
   "outputs": [
    {
     "name": "stdout",
     "output_type": "stream",
     "text": [
      "levene테스트 결과: LeveneResult(statistic=0.6144552033049334, pvalue=0.4336379490863752)\n",
      "fligner테스트 결과: FlignerResult(statistic=0.4455866504689745, pvalue=0.5044382692544688)\n",
      "결론: 분산이 같다는 귀무가설을 기각할 수 없다\n"
     ]
    }
   ],
   "source": [
    "from scipy.stats import levene\n",
    "from scipy.stats import fligner\n",
    "print(\"levene테스트 결과:\",stats.levene(data_m, data_w))\n",
    "print(\"fligner테스트 결과:\",stats.fligner(data_m,data_w))\n",
    "print(\"결론: 분산이 같다는 귀무가설을 기각할 수 없다\")"
   ]
  },
  {
   "cell_type": "code",
   "execution_count": 68,
   "id": "a32b6024",
   "metadata": {
    "ExecuteTime": {
     "end_time": "2024-12-08T04:24:24.429132Z",
     "start_time": "2024-12-08T04:24:24.402219Z"
    }
   },
   "outputs": [
    {
     "name": "stdout",
     "output_type": "stream",
     "text": [
      "Ttest_indResult(statistic=1.9404771273257526, pvalue=0.053113174845791505)\n"
     ]
    }
   ],
   "source": [
    "from scipy.stats import ttest_ind\n",
    "print(ttest_ind(data_m, data_w, equal_var=True))"
   ]
  },
  {
   "cell_type": "code",
   "execution_count": 73,
   "id": "c9865779",
   "metadata": {
    "ExecuteTime": {
     "end_time": "2024-12-08T04:56:36.947005Z",
     "start_time": "2024-12-08T04:56:36.924002Z"
    }
   },
   "outputs": [
    {
     "name": "stdout",
     "output_type": "stream",
     "text": [
      "Wilcoxon Rank-Sum Test p-value:  RanksumsResult(statistic=1.764823191570922, pvalue=0.077593485676993)\n"
     ]
    }
   ],
   "source": [
    "from scipy.stats import ranksums\n",
    "\n",
    "w_stat, p_ranksum = ranksums(data_m, data_w)\n",
    "print(f\"Wilcoxon Rank-Sum Test p-value: \",ranksums(data_m, data_w))\n"
   ]
  },
  {
   "cell_type": "code",
   "execution_count": 92,
   "id": "316917e9",
   "metadata": {
    "ExecuteTime": {
     "end_time": "2024-12-08T05:36:51.957735Z",
     "start_time": "2024-12-08T05:36:50.867163Z"
    }
   },
   "outputs": [
    {
     "data": {
      "image/png": "[encoded data removed]",
      "text/plain": [
       "<Figure size 800x600 with 1 Axes>"
      ]
     },
     "metadata": {},
     "output_type": "display_data"
    }
   ],
   "source": [
    "# Modify the code to overlap the histograms for better comparison\n",
    "\n",
    "plt.figure(figsize=(8, 6))\n",
    "\n",
    "# Overlapping histograms\n",
    "plt.hist(data_m, bins=10, alpha=0.5, label=\"data_m\", density=True)\n",
    "plt.hist(data_w, bins=10, alpha=0.5, label=\"data_w\", color='orange', density=True)\n",
    "\n",
    "# Adding labels and legend\n",
    "plt.title(\"Overlapping Histograms - data_m vs data_w\")\n",
    "plt.xlabel(\"Value\")\n",
    "plt.ylabel(\"Density\")\n",
    "plt.legend()\n",
    "\n",
    "plt.show()\n"
   ]
  },
  {
   "cell_type": "code",
   "execution_count": 36,
   "id": "d680a9a8",
   "metadata": {
    "ExecuteTime": {
     "end_time": "2024-12-08T06:35:11.111513Z",
     "start_time": "2024-12-08T06:35:11.081515Z"
    }
   },
   "outputs": [
    {
     "name": "stdout",
     "output_type": "stream",
     "text": [
      "Mann-Whitney U Test p-value: 0.0005226337837144511\n"
     ]
    }
   ],
   "source": [
    "from scipy.stats import mannwhitneyu\n",
    "\n",
    "\n",
    "u_stat, p_mwu = mannwhitneyu(data_m, data_w, alternative='less')\n",
    "print(f\"Mann-Whitney U Test p-value: {p_mwu}\")\n"
   ]
  },
  {
   "cell_type": "code",
   "execution_count": 26,
   "id": "07178073",
   "metadata": {
    "ExecuteTime": {
     "end_time": "2024-12-08T06:33:03.521497Z",
     "start_time": "2024-12-08T06:33:03.213865Z"
    }
   },
   "outputs": [
    {
     "data": {
      "text/html": [
       "<div>\n",
       "<style scoped>\n",
       "    .dataframe tbody tr th:only-of-type {\n",
       "        vertical-align: middle;\n",
       "    }\n",
       "\n",
       "    .dataframe tbody tr th {\n",
       "        vertical-align: top;\n",
       "    }\n",
       "\n",
       "    .dataframe thead th {\n",
       "        text-align: right;\n",
       "    }\n",
       "</style>\n",
       "<table border=\"1\" class=\"dataframe\">\n",
       "  <thead>\n",
       "    <tr style=\"text-align: right;\">\n",
       "      <th></th>\n",
       "      <th>school</th>\n",
       "      <th>sex</th>\n",
       "      <th>age</th>\n",
       "      <th>address</th>\n",
       "      <th>famsize</th>\n",
       "      <th>Pstatus</th>\n",
       "      <th>Medu</th>\n",
       "      <th>Fedu</th>\n",
       "      <th>Mjob</th>\n",
       "      <th>Fjob</th>\n",
       "      <th>...</th>\n",
       "      <th>famrel</th>\n",
       "      <th>freetime</th>\n",
       "      <th>goout</th>\n",
       "      <th>Dalc</th>\n",
       "      <th>Walc</th>\n",
       "      <th>health</th>\n",
       "      <th>absences</th>\n",
       "      <th>G1</th>\n",
       "      <th>G2</th>\n",
       "      <th>G3</th>\n",
       "    </tr>\n",
       "  </thead>\n",
       "  <tbody>\n",
       "    <tr>\n",
       "      <th>0</th>\n",
       "      <td>GP</td>\n",
       "      <td>F</td>\n",
       "      <td>18</td>\n",
       "      <td>U</td>\n",
       "      <td>GT3</td>\n",
       "      <td>A</td>\n",
       "      <td>4</td>\n",
       "      <td>4</td>\n",
       "      <td>at_home</td>\n",
       "      <td>teacher</td>\n",
       "      <td>...</td>\n",
       "      <td>4</td>\n",
       "      <td>3</td>\n",
       "      <td>4</td>\n",
       "      <td>1</td>\n",
       "      <td>1</td>\n",
       "      <td>3</td>\n",
       "      <td>4</td>\n",
       "      <td>0</td>\n",
       "      <td>11</td>\n",
       "      <td>11</td>\n",
       "    </tr>\n",
       "    <tr>\n",
       "      <th>1</th>\n",
       "      <td>GP</td>\n",
       "      <td>F</td>\n",
       "      <td>17</td>\n",
       "      <td>U</td>\n",
       "      <td>GT3</td>\n",
       "      <td>T</td>\n",
       "      <td>1</td>\n",
       "      <td>1</td>\n",
       "      <td>at_home</td>\n",
       "      <td>other</td>\n",
       "      <td>...</td>\n",
       "      <td>5</td>\n",
       "      <td>3</td>\n",
       "      <td>3</td>\n",
       "      <td>1</td>\n",
       "      <td>1</td>\n",
       "      <td>3</td>\n",
       "      <td>2</td>\n",
       "      <td>9</td>\n",
       "      <td>11</td>\n",
       "      <td>11</td>\n",
       "    </tr>\n",
       "    <tr>\n",
       "      <th>2</th>\n",
       "      <td>GP</td>\n",
       "      <td>F</td>\n",
       "      <td>15</td>\n",
       "      <td>U</td>\n",
       "      <td>LE3</td>\n",
       "      <td>T</td>\n",
       "      <td>1</td>\n",
       "      <td>1</td>\n",
       "      <td>at_home</td>\n",
       "      <td>other</td>\n",
       "      <td>...</td>\n",
       "      <td>4</td>\n",
       "      <td>3</td>\n",
       "      <td>2</td>\n",
       "      <td>2</td>\n",
       "      <td>3</td>\n",
       "      <td>3</td>\n",
       "      <td>6</td>\n",
       "      <td>12</td>\n",
       "      <td>13</td>\n",
       "      <td>12</td>\n",
       "    </tr>\n",
       "    <tr>\n",
       "      <th>3</th>\n",
       "      <td>GP</td>\n",
       "      <td>F</td>\n",
       "      <td>15</td>\n",
       "      <td>U</td>\n",
       "      <td>GT3</td>\n",
       "      <td>T</td>\n",
       "      <td>4</td>\n",
       "      <td>2</td>\n",
       "      <td>health</td>\n",
       "      <td>services</td>\n",
       "      <td>...</td>\n",
       "      <td>3</td>\n",
       "      <td>2</td>\n",
       "      <td>2</td>\n",
       "      <td>1</td>\n",
       "      <td>1</td>\n",
       "      <td>5</td>\n",
       "      <td>0</td>\n",
       "      <td>14</td>\n",
       "      <td>14</td>\n",
       "      <td>14</td>\n",
       "    </tr>\n",
       "    <tr>\n",
       "      <th>4</th>\n",
       "      <td>GP</td>\n",
       "      <td>F</td>\n",
       "      <td>16</td>\n",
       "      <td>U</td>\n",
       "      <td>GT3</td>\n",
       "      <td>T</td>\n",
       "      <td>3</td>\n",
       "      <td>3</td>\n",
       "      <td>other</td>\n",
       "      <td>other</td>\n",
       "      <td>...</td>\n",
       "      <td>4</td>\n",
       "      <td>3</td>\n",
       "      <td>2</td>\n",
       "      <td>1</td>\n",
       "      <td>2</td>\n",
       "      <td>5</td>\n",
       "      <td>0</td>\n",
       "      <td>11</td>\n",
       "      <td>13</td>\n",
       "      <td>13</td>\n",
       "    </tr>\n",
       "    <tr>\n",
       "      <th>...</th>\n",
       "      <td>...</td>\n",
       "      <td>...</td>\n",
       "      <td>...</td>\n",
       "      <td>...</td>\n",
       "      <td>...</td>\n",
       "      <td>...</td>\n",
       "      <td>...</td>\n",
       "      <td>...</td>\n",
       "      <td>...</td>\n",
       "      <td>...</td>\n",
       "      <td>...</td>\n",
       "      <td>...</td>\n",
       "      <td>...</td>\n",
       "      <td>...</td>\n",
       "      <td>...</td>\n",
       "      <td>...</td>\n",
       "      <td>...</td>\n",
       "      <td>...</td>\n",
       "      <td>...</td>\n",
       "      <td>...</td>\n",
       "      <td>...</td>\n",
       "    </tr>\n",
       "    <tr>\n",
       "      <th>644</th>\n",
       "      <td>MS</td>\n",
       "      <td>F</td>\n",
       "      <td>19</td>\n",
       "      <td>R</td>\n",
       "      <td>GT3</td>\n",
       "      <td>T</td>\n",
       "      <td>2</td>\n",
       "      <td>3</td>\n",
       "      <td>services</td>\n",
       "      <td>other</td>\n",
       "      <td>...</td>\n",
       "      <td>5</td>\n",
       "      <td>4</td>\n",
       "      <td>2</td>\n",
       "      <td>1</td>\n",
       "      <td>2</td>\n",
       "      <td>5</td>\n",
       "      <td>4</td>\n",
       "      <td>10</td>\n",
       "      <td>11</td>\n",
       "      <td>10</td>\n",
       "    </tr>\n",
       "    <tr>\n",
       "      <th>645</th>\n",
       "      <td>MS</td>\n",
       "      <td>F</td>\n",
       "      <td>18</td>\n",
       "      <td>U</td>\n",
       "      <td>LE3</td>\n",
       "      <td>T</td>\n",
       "      <td>3</td>\n",
       "      <td>1</td>\n",
       "      <td>teacher</td>\n",
       "      <td>services</td>\n",
       "      <td>...</td>\n",
       "      <td>4</td>\n",
       "      <td>3</td>\n",
       "      <td>4</td>\n",
       "      <td>1</td>\n",
       "      <td>1</td>\n",
       "      <td>1</td>\n",
       "      <td>4</td>\n",
       "      <td>15</td>\n",
       "      <td>15</td>\n",
       "      <td>16</td>\n",
       "    </tr>\n",
       "    <tr>\n",
       "      <th>646</th>\n",
       "      <td>MS</td>\n",
       "      <td>F</td>\n",
       "      <td>18</td>\n",
       "      <td>U</td>\n",
       "      <td>GT3</td>\n",
       "      <td>T</td>\n",
       "      <td>1</td>\n",
       "      <td>1</td>\n",
       "      <td>other</td>\n",
       "      <td>other</td>\n",
       "      <td>...</td>\n",
       "      <td>1</td>\n",
       "      <td>1</td>\n",
       "      <td>1</td>\n",
       "      <td>1</td>\n",
       "      <td>1</td>\n",
       "      <td>5</td>\n",
       "      <td>6</td>\n",
       "      <td>11</td>\n",
       "      <td>12</td>\n",
       "      <td>9</td>\n",
       "    </tr>\n",
       "    <tr>\n",
       "      <th>647</th>\n",
       "      <td>MS</td>\n",
       "      <td>M</td>\n",
       "      <td>17</td>\n",
       "      <td>U</td>\n",
       "      <td>LE3</td>\n",
       "      <td>T</td>\n",
       "      <td>3</td>\n",
       "      <td>1</td>\n",
       "      <td>services</td>\n",
       "      <td>services</td>\n",
       "      <td>...</td>\n",
       "      <td>2</td>\n",
       "      <td>4</td>\n",
       "      <td>5</td>\n",
       "      <td>3</td>\n",
       "      <td>4</td>\n",
       "      <td>2</td>\n",
       "      <td>6</td>\n",
       "      <td>10</td>\n",
       "      <td>10</td>\n",
       "      <td>10</td>\n",
       "    </tr>\n",
       "    <tr>\n",
       "      <th>648</th>\n",
       "      <td>MS</td>\n",
       "      <td>M</td>\n",
       "      <td>18</td>\n",
       "      <td>R</td>\n",
       "      <td>LE3</td>\n",
       "      <td>T</td>\n",
       "      <td>3</td>\n",
       "      <td>2</td>\n",
       "      <td>services</td>\n",
       "      <td>other</td>\n",
       "      <td>...</td>\n",
       "      <td>4</td>\n",
       "      <td>4</td>\n",
       "      <td>1</td>\n",
       "      <td>3</td>\n",
       "      <td>4</td>\n",
       "      <td>5</td>\n",
       "      <td>4</td>\n",
       "      <td>10</td>\n",
       "      <td>11</td>\n",
       "      <td>11</td>\n",
       "    </tr>\n",
       "  </tbody>\n",
       "</table>\n",
       "<p>649 rows × 33 columns</p>\n",
       "</div>"
      ],
      "text/plain": [
       "    school sex  age address famsize Pstatus  Medu  Fedu      Mjob      Fjob  \\\n",
       "0       GP   F   18       U     GT3       A     4     4   at_home   teacher   \n",
       "1       GP   F   17       U     GT3       T     1     1   at_home     other   \n",
       "2       GP   F   15       U     LE3       T     1     1   at_home     other   \n",
       "3       GP   F   15       U     GT3       T     4     2    health  services   \n",
       "4       GP   F   16       U     GT3       T     3     3     other     other   \n",
       "..     ...  ..  ...     ...     ...     ...   ...   ...       ...       ...   \n",
       "644     MS   F   19       R     GT3       T     2     3  services     other   \n",
       "645     MS   F   18       U     LE3       T     3     1   teacher  services   \n",
       "646     MS   F   18       U     GT3       T     1     1     other     other   \n",
       "647     MS   M   17       U     LE3       T     3     1  services  services   \n",
       "648     MS   M   18       R     LE3       T     3     2  services     other   \n",
       "\n",
       "     ... famrel freetime  goout  Dalc  Walc health absences  G1  G2  G3  \n",
       "0    ...      4        3      4     1     1      3        4   0  11  11  \n",
       "1    ...      5        3      3     1     1      3        2   9  11  11  \n",
       "2    ...      4        3      2     2     3      3        6  12  13  12  \n",
       "3    ...      3        2      2     1     1      5        0  14  14  14  \n",
       "4    ...      4        3      2     1     2      5        0  11  13  13  \n",
       "..   ...    ...      ...    ...   ...   ...    ...      ...  ..  ..  ..  \n",
       "644  ...      5        4      2     1     2      5        4  10  11  10  \n",
       "645  ...      4        3      4     1     1      1        4  15  15  16  \n",
       "646  ...      1        1      1     1     1      5        6  11  12   9  \n",
       "647  ...      2        4      5     3     4      2        6  10  10  10  \n",
       "648  ...      4        4      1     3     4      5        4  10  11  11  \n",
       "\n",
       "[649 rows x 33 columns]"
      ]
     },
     "execution_count": 26,
     "metadata": {},
     "output_type": "execute_result"
    }
   ],
   "source": [
    "#포르투갈언어 시험성적에 관한 자료에 대해서도 마찬가지 분석을 진행\n",
    "data= pd.read_csv(\"student-por.csv\")\n",
    "data"
   ]
  },
  {
   "cell_type": "code",
   "execution_count": 27,
   "id": "922b8bea",
   "metadata": {
    "ExecuteTime": {
     "end_time": "2024-12-08T06:33:04.272427Z",
     "start_time": "2024-12-08T06:33:04.227757Z"
    }
   },
   "outputs": [
    {
     "name": "stdout",
     "output_type": "stream",
     "text": [
      "11.406015037593985\n",
      "12.2532637075718\n",
      "11.75968992248062\n",
      "12.481382978723405\n"
     ]
    }
   ],
   "source": [
    "data_m = data[data[\"sex\"]==\"M\"]\n",
    "data_w = data[data[\"sex\"]==\"F\"]\n",
    "print(data_m[\"G3\"].mean())\n",
    "print(data_w[\"G3\"].mean())\n",
    "print(data_m[data_m[\"G3\"]>0][\"G3\"].mean())\n",
    "print(data_w[data_w['G3']>0][\"G3\"].mean())"
   ]
  },
  {
   "cell_type": "code",
   "execution_count": 28,
   "id": "d88d767f",
   "metadata": {
    "ExecuteTime": {
     "end_time": "2024-12-08T06:33:04.941290Z",
     "start_time": "2024-12-08T06:33:04.916108Z"
    }
   },
   "outputs": [
    {
     "name": "stdout",
     "output_type": "stream",
     "text": [
      "0.017198789813110956 0.8956612708580117\n"
     ]
    }
   ],
   "source": [
    "from scipy.stats import bartlett\n",
    "stat, p = bartlett(data_m[data_m[\"G3\"]>0][\"G3\"],data_w[data_w[\"G3\"]>0][\"G3\"])\n",
    "print(stat,p)"
   ]
  },
  {
   "cell_type": "code",
   "execution_count": 29,
   "id": "c57f3cfa",
   "metadata": {
    "ExecuteTime": {
     "end_time": "2024-12-08T06:33:05.708572Z",
     "start_time": "2024-12-08T06:33:05.667957Z"
    }
   },
   "outputs": [
    {
     "data": {
      "text/plain": [
       "Ttest_indResult(statistic=-3.342934419210429, pvalue=0.0008779197508574923)"
      ]
     },
     "execution_count": 29,
     "metadata": {},
     "output_type": "execute_result"
    }
   ],
   "source": [
    "stats.ttest_ind(data_m[data_m[\"G3\"]>0][\"G3\"],data_w[data_w[\"G3\"]>0][\"G3\"],equal_var=True)"
   ]
  },
  {
   "cell_type": "code",
   "execution_count": 30,
   "id": "9e3cd394",
   "metadata": {
    "ExecuteTime": {
     "end_time": "2024-12-08T06:33:06.426358Z",
     "start_time": "2024-12-08T06:33:06.413358Z"
    }
   },
   "outputs": [],
   "source": [
    "data_m = data_m[data_m[\"G3\"]>0][\"G3\"]\n",
    "data_w = data_w[data_w[\"G3\"]>0][\"G3\"]"
   ]
  },
  {
   "cell_type": "code",
   "execution_count": 31,
   "id": "1ced4426",
   "metadata": {
    "ExecuteTime": {
     "end_time": "2024-12-08T06:33:07.049960Z",
     "start_time": "2024-12-08T06:33:07.038382Z"
    }
   },
   "outputs": [
    {
     "name": "stdout",
     "output_type": "stream",
     "text": [
      "258\n",
      "376\n"
     ]
    }
   ],
   "source": [
    "print(len(data_m))\n",
    "print(len(data_w))"
   ]
  },
  {
   "cell_type": "code",
   "execution_count": 32,
   "id": "18087176",
   "metadata": {
    "ExecuteTime": {
     "end_time": "2024-12-08T06:33:07.679065Z",
     "start_time": "2024-12-08T06:33:07.641304Z"
    }
   },
   "outputs": [
    {
     "name": "stdout",
     "output_type": "stream",
     "text": [
      "count    258.000000\n",
      "mean      11.759690\n",
      "std        2.682339\n",
      "min        1.000000\n",
      "25%       10.000000\n",
      "50%       11.000000\n",
      "75%       13.750000\n",
      "max       19.000000\n",
      "Name: G3, dtype: float64\n",
      "count    376.000000\n",
      "mean      12.481383\n",
      "std        2.662265\n",
      "min        7.000000\n",
      "25%       10.000000\n",
      "50%       12.000000\n",
      "75%       14.000000\n",
      "max       19.000000\n",
      "Name: G3, dtype: float64\n"
     ]
    }
   ],
   "source": [
    "print(data_m.describe())\n",
    "print(data_w.describe())"
   ]
  },
  {
   "cell_type": "code",
   "execution_count": 10,
   "id": "a4f75d90",
   "metadata": {
    "ExecuteTime": {
     "end_time": "2024-12-08T06:10:01.807734Z",
     "start_time": "2024-12-08T06:10:00.812433Z"
    },
    "scrolled": false
   },
   "outputs": [
    {
     "data": {
      "image/png": "[encoded data removed]",
      "text/plain": [
       "<Figure size 1200x600 with 2 Axes>"
      ]
     },
     "metadata": {},
     "output_type": "display_data"
    },
    {
     "data": {
      "image/png": "[encoded data removed]",
      "text/plain": [
       "<Figure size 1200x600 with 2 Axes>"
      ]
     },
     "metadata": {},
     "output_type": "display_data"
    }
   ],
   "source": [
    "import matplotlib.pyplot as plt\n",
    "\n",
    "# Plotting QQ plots\n",
    "plt.figure(figsize=(12, 6))\n",
    "\n",
    "plt.subplot(1, 2, 1)\n",
    "stats.probplot(data_m, dist=\"norm\", plot=plt)\n",
    "plt.title(\"QQ Plot - data_m\")\n",
    "\n",
    "plt.subplot(1, 2, 2)\n",
    "stats.probplot(data_w, dist=\"norm\", plot=plt)\n",
    "plt.title(\"QQ Plot - data_w\")\n",
    "\n",
    "plt.tight_layout()\n",
    "plt.show()\n",
    "\n",
    "# Plotting histograms\n",
    "plt.figure(figsize=(12, 6))\n",
    "\n",
    "plt.subplot(1, 2, 1)\n",
    "plt.hist(data_m, bins=10, alpha=0.7, label=\"data_m\")\n",
    "plt.title(\"Histogram - data_m\")\n",
    "plt.xlabel(\"Value\")\n",
    "plt.ylabel(\"Frequency\")\n",
    "\n",
    "plt.subplot(1, 2, 2)\n",
    "plt.hist(data_w, bins=10, alpha=0.7, label=\"data_w\", color='orange')\n",
    "plt.title(\"Histogram - data_w\")\n",
    "plt.xlabel(\"Value\")\n",
    "plt.ylabel(\"Frequency\")\n",
    "\n",
    "plt.tight_layout()\n",
    "plt.show()\n",
    "\n"
   ]
  },
  {
   "cell_type": "code",
   "execution_count": 24,
   "id": "82c17db3",
   "metadata": {
    "ExecuteTime": {
     "end_time": "2024-12-08T06:32:27.681283Z",
     "start_time": "2024-12-08T06:32:26.853481Z"
    }
   },
   "outputs": [
    {
     "data": {
      "image/png": "[encoded data removed]",
      "text/plain": [
       "<Figure size 800x600 with 1 Axes>"
      ]
     },
     "metadata": {},
     "output_type": "display_data"
    }
   ],
   "source": [
    "# Modify the code to overlap the histograms for better comparison\n",
    "\n",
    "plt.figure(figsize=(8, 6))\n",
    "\n",
    "# Overlapping histograms\n",
    "plt.hist(data_m, bins=10, alpha=0.5, label=\"data_m\", density=True)\n",
    "plt.hist(data_w, bins=10, alpha=0.5, label=\"data_w\", color='orange', density=True)\n",
    "\n",
    "# Adding labels and legend\n",
    "plt.title(\"Overlapping Histograms - data_m vs data_w\")\n",
    "plt.xlabel(\"Value\")\n",
    "plt.ylabel(\"Density\")\n",
    "plt.legend()\n",
    "\n",
    "plt.show()"
   ]
  },
  {
   "cell_type": "code",
   "execution_count": 13,
   "id": "25f19e7a",
   "metadata": {
    "ExecuteTime": {
     "end_time": "2024-12-08T06:16:00.226307Z",
     "start_time": "2024-12-08T06:16:00.122319Z"
    }
   },
   "outputs": [
    {
     "name": "stdout",
     "output_type": "stream",
     "text": [
      "data_m의 정규성 ShapiroResult(statistic=0.9713147282600403, pvalue=4.664006701204926e-05)\n",
      "data_w의 정규성 ShapiroResult(statistic=0.9747232794761658, pvalue=3.8834627957839984e-06)\n"
     ]
    }
   ],
   "source": [
    "print(\"data_m의 정규성\",stats.shapiro(data_m))\n",
    "print(\"data_w의 정규성\",stats.shapiro(data_w))"
   ]
  },
  {
   "cell_type": "code",
   "execution_count": 14,
   "id": "2e2c480b",
   "metadata": {
    "ExecuteTime": {
     "end_time": "2024-12-08T06:16:11.548371Z",
     "start_time": "2024-12-08T06:16:11.390883Z"
    }
   },
   "outputs": [
    {
     "name": "stdout",
     "output_type": "stream",
     "text": [
      "ks_test & data_m의 결과  KstestResult(statistic=0.142714290510348, pvalue=4.767702005030989e-05)\n",
      "ks_test & data_w의 결과 KstestResult(statistic=0.10757389252617444, pvalue=0.0003040247723250106)\n"
     ]
    }
   ],
   "source": [
    "mean_m, std_m = np.mean(data_m), np.std(data_m)\n",
    "mean_w, std_w = np.mean(data_w), np.std(data_w)\n",
    "\n",
    "print(\"ks_test & data_m의 결과 \",stats.kstest(data_m, 'norm', args=(mean_m, std_m)))\n",
    "print(\"ks_test & data_w의 결과\" ,stats.kstest(data_w, 'norm', args=(mean_w, std_w)))"
   ]
  },
  {
   "cell_type": "code",
   "execution_count": 21,
   "id": "9d002542",
   "metadata": {
    "ExecuteTime": {
     "end_time": "2024-12-08T06:26:40.061780Z",
     "start_time": "2024-12-08T06:26:40.050769Z"
    }
   },
   "outputs": [
    {
     "name": "stdout",
     "output_type": "stream",
     "text": [
      "Test Statistic: 7.555644810811773\n",
      "p-value: 0.02287244414553058\n"
     ]
    }
   ],
   "source": [
    "from scipy.stats import jarque_bera\n",
    "stat, p_value = jarque_bera(data_w)\n",
    "print(\"Test Statistic:\", stat)\n",
    "print(\"p-value:\", p_value)"
   ]
  },
  {
   "cell_type": "code",
   "execution_count": 20,
   "id": "88125bed",
   "metadata": {
    "ExecuteTime": {
     "end_time": "2024-12-08T06:26:39.524894Z",
     "start_time": "2024-12-08T06:26:39.457555Z"
    }
   },
   "outputs": [
    {
     "name": "stdout",
     "output_type": "stream",
     "text": [
      "Test Statistic: 13.478901038958876\n",
      "p-value: 0.0011832971767611806\n"
     ]
    }
   ],
   "source": [
    "from scipy.stats import normaltest\n",
    "stat, p_value = normaltest(data_w)\n",
    "print(\"Test Statistic:\", stat)\n",
    "print(\"p-value:\", p_value)"
   ]
  },
  {
   "cell_type": "code",
   "execution_count": 17,
   "id": "e64f82a0",
   "metadata": {
    "ExecuteTime": {
     "end_time": "2024-12-08T06:16:32.153635Z",
     "start_time": "2024-12-08T06:16:32.098640Z"
    }
   },
   "outputs": [
    {
     "name": "stdout",
     "output_type": "stream",
     "text": [
      "levene테스트 결과: LeveneResult(statistic=0.5699053541647334, pvalue=0.4505777486357717)\n",
      "fligner테스트 결과: FlignerResult(statistic=0.37879627131036775, pvalue=0.538248156579413)\n",
      "결론: 분산이 같다는 귀무가설을 기각할 수 없다\n"
     ]
    }
   ],
   "source": [
    "from scipy.stats import levene\n",
    "from scipy.stats import fligner\n",
    "print(\"levene테스트 결과:\",stats.levene(data_m, data_w))\n",
    "print(\"fligner테스트 결과:\",stats.fligner(data_m,data_w))\n",
    "print(\"결론: 분산이 같다는 귀무가설을 기각할 수 없다\")"
   ]
  },
  {
   "cell_type": "code",
   "execution_count": 35,
   "id": "299edde9",
   "metadata": {
    "ExecuteTime": {
     "end_time": "2024-12-08T06:34:01.240516Z",
     "start_time": "2024-12-08T06:34:01.220002Z"
    }
   },
   "outputs": [
    {
     "name": "stdout",
     "output_type": "stream",
     "text": [
      "Ttest_indResult(statistic=-3.342934419210429, pvalue=0.9995610401245713)\n"
     ]
    }
   ],
   "source": [
    "from scipy.stats import ttest_ind\n",
    "print(ttest_ind(data_m, data_w, equal_var=True,alternative=\"greater\"))"
   ]
  },
  {
   "cell_type": "code",
   "execution_count": 19,
   "id": "37df393e",
   "metadata": {
    "ExecuteTime": {
     "end_time": "2024-12-08T06:17:35.684003Z",
     "start_time": "2024-12-08T06:17:35.654481Z"
    }
   },
   "outputs": [
    {
     "name": "stdout",
     "output_type": "stream",
     "text": [
      "Wilcoxon Rank-Sum Test p-value:  RanksumsResult(statistic=-3.2557446208016954, pvalue=0.001130954259649573)\n"
     ]
    }
   ],
   "source": [
    "from scipy.stats import ranksums\n",
    "\n",
    "w_stat, p_ranksum = ranksums(data_m, data_w)\n",
    "print(f\"Wilcoxon Rank-Sum Test p-value: \",ranksums(data_m, data_w))"
   ]
  },
  {
   "cell_type": "code",
   "execution_count": 23,
   "id": "70ab91f3",
   "metadata": {
    "ExecuteTime": {
     "end_time": "2024-12-08T06:32:13.643657Z",
     "start_time": "2024-12-08T06:32:13.615658Z"
    }
   },
   "outputs": [
    {
     "name": "stdout",
     "output_type": "stream",
     "text": [
      "Mann-Whitney U Test p-value: 0.0005226337837144511\n"
     ]
    }
   ],
   "source": [
    "from scipy.stats import mannwhitneyu\n",
    "\n",
    "\n",
    "u_stat, p_mwu = mannwhitneyu(data_m, data_w, alternative='less')\n",
    "print(f\"Mann-Whitney U Test p-value: {p_mwu}\")\n"
   ]
  }
 ],
 "metadata": {
  "kernelspec": {
   "display_name": "Python 3 (ipykernel)",
   "language": "python",
   "name": "python3"
  },
  "language_info": {
   "codemirror_mode": {
    "name": "ipython",
    "version": 3
   },
   "file_extension": ".py",
   "mimetype": "text/x-python",
   "name": "python",
   "nbconvert_exporter": "python",
   "pygments_lexer": "ipython3",
   "version": "3.9.13"
  }
 },
 "nbformat": 4,
 "nbformat_minor": 5
}
